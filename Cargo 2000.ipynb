{
 "cells": [
  {
   "cell_type": "code",
   "execution_count": 1,
   "metadata": {},
   "outputs": [],
   "source": [
    "import pandas as pd\n",
    "import numpy as np"
   ]
  },
  {
   "cell_type": "code",
   "execution_count": 2,
   "metadata": {},
   "outputs": [],
   "source": [
    "URL = \"http://s-cube-network.eu/c2k-files/c2k_data_comma.csv\""
   ]
  },
  {
   "cell_type": "code",
   "execution_count": 3,
   "metadata": {},
   "outputs": [],
   "source": [
    "data = pd.read_csv(URL, na_values='?')"
   ]
  },
  {
   "cell_type": "code",
   "execution_count": 4,
   "metadata": {},
   "outputs": [],
   "source": [
    "tabla = []\n",
    "\n",
    "for i, fila in data.iterrows():\n",
    "    for leg in ['i1','i2','i3', 'o']:\n",
    "        \n",
    "        if np.isnan(fila[leg + '_legid']):\n",
    "            continue\n",
    "        \n",
    "        for service in ['rcs','dep','rcf','dlv']:\n",
    "            \n",
    "            if service =='rcs':\n",
    "                posiciones = ['0']\n",
    "            elif service =='dep':\n",
    "                posiciones = ['1','2','3']\n",
    "            elif service == 'rcf':\n",
    "                posiciones = ['1','2','3']\n",
    "            elif service =='dlv':\n",
    "                posiciones = ['0']\n",
    "            \n",
    "            for pos in posiciones:\n",
    "                if service == 'rcs' :\n",
    "                    service_pos = service\n",
    "                    origin_service_pos = 'dep_1' \n",
    "                    destin_service_pos = 'dep_1'\n",
    "                    \n",
    "                elif service == 'dlv':\n",
    "                    service_pos = service\n",
    "                    origin_service_pos = 'rcf_' + ult_pos\n",
    "                    destin_service_pos = 'rcf_' + ult_pos\n",
    "                    \n",
    "                else:\n",
    "                    service_pos = service + '_' + pos\n",
    "                    origin_service_pos = 'dep_' + pos \n",
    "                    destin_service_pos = 'rcf_' + pos\n",
    "                \n",
    "                if np.isnan(fila[leg + '_' + service_pos + '_p']):\n",
    "                    continue                    \n",
    "                            \n",
    "                nueva_fila = {}\n",
    "                nueva_fila['process_id']     = str(int(fila.nr))\n",
    "                nueva_fila['transport_id']   = str(int(fila[leg + '_legid']))\n",
    "                nueva_fila['transport_oper'] = 'outgoing' if leg == 'o' else 'incoming'\n",
    "                nueva_fila['service_type']   = service\n",
    "                nueva_fila['service_pos']    = pos\n",
    "                nueva_fila['origin_place']   = str(int(fila[leg + '_' + origin_service_pos + '_place']))\n",
    "                nueva_fila['destin_place']   = str(int(fila[leg + '_' + destin_service_pos + '_place']))\n",
    "                nueva_fila['planned_time']   = fila[leg + '_' + service_pos + '_p']\n",
    "                nueva_fila['effective_time'] = fila[leg + '_' + service_pos + '_e']\n",
    "                \n",
    "                tabla.append(nueva_fila)\n",
    "                \n",
    "                ult_pos = pos"
   ]
  },
  {
   "cell_type": "code",
   "execution_count": 5,
   "metadata": {},
   "outputs": [],
   "source": [
    "df = pd.DataFrame(tabla)"
   ]
  },
  {
   "cell_type": "code",
   "execution_count": 6,
   "metadata": {},
   "outputs": [
    {
     "data": {
      "text/html": [
       "<div>\n",
       "<style scoped>\n",
       "    .dataframe tbody tr th:only-of-type {\n",
       "        vertical-align: middle;\n",
       "    }\n",
       "\n",
       "    .dataframe tbody tr th {\n",
       "        vertical-align: top;\n",
       "    }\n",
       "\n",
       "    .dataframe thead th {\n",
       "        text-align: right;\n",
       "    }\n",
       "</style>\n",
       "<table border=\"1\" class=\"dataframe\">\n",
       "  <thead>\n",
       "    <tr style=\"text-align: right;\">\n",
       "      <th></th>\n",
       "      <th>destin_place</th>\n",
       "      <th>effective_time</th>\n",
       "      <th>origin_place</th>\n",
       "      <th>planned_time</th>\n",
       "      <th>process_id</th>\n",
       "      <th>service_pos</th>\n",
       "      <th>service_type</th>\n",
       "      <th>transport_id</th>\n",
       "      <th>transport_oper</th>\n",
       "    </tr>\n",
       "  </thead>\n",
       "  <tbody>\n",
       "    <tr>\n",
       "      <th>0</th>\n",
       "      <td>609</td>\n",
       "      <td>218.0</td>\n",
       "      <td>609</td>\n",
       "      <td>199.0</td>\n",
       "      <td>0</td>\n",
       "      <td>0</td>\n",
       "      <td>rcs</td>\n",
       "      <td>5182</td>\n",
       "      <td>incoming</td>\n",
       "    </tr>\n",
       "    <tr>\n",
       "      <th>1</th>\n",
       "      <td>256</td>\n",
       "      <td>215.0</td>\n",
       "      <td>609</td>\n",
       "      <td>210.0</td>\n",
       "      <td>0</td>\n",
       "      <td>1</td>\n",
       "      <td>dep</td>\n",
       "      <td>5182</td>\n",
       "      <td>incoming</td>\n",
       "    </tr>\n",
       "    <tr>\n",
       "      <th>2</th>\n",
       "      <td>256</td>\n",
       "      <td>736.0</td>\n",
       "      <td>609</td>\n",
       "      <td>935.0</td>\n",
       "      <td>0</td>\n",
       "      <td>1</td>\n",
       "      <td>rcf</td>\n",
       "      <td>5182</td>\n",
       "      <td>incoming</td>\n",
       "    </tr>\n",
       "    <tr>\n",
       "      <th>3</th>\n",
       "      <td>256</td>\n",
       "      <td>1539.0</td>\n",
       "      <td>256</td>\n",
       "      <td>840.0</td>\n",
       "      <td>0</td>\n",
       "      <td>0</td>\n",
       "      <td>dlv</td>\n",
       "      <td>5182</td>\n",
       "      <td>incoming</td>\n",
       "    </tr>\n",
       "    <tr>\n",
       "      <th>4</th>\n",
       "      <td>431</td>\n",
       "      <td>2880.0</td>\n",
       "      <td>431</td>\n",
       "      <td>3315.0</td>\n",
       "      <td>0</td>\n",
       "      <td>0</td>\n",
       "      <td>rcs</td>\n",
       "      <td>573</td>\n",
       "      <td>incoming</td>\n",
       "    </tr>\n",
       "  </tbody>\n",
       "</table>\n",
       "</div>"
      ],
      "text/plain": [
       "  destin_place  effective_time origin_place  planned_time process_id  \\\n",
       "0          609           218.0          609         199.0          0   \n",
       "1          256           215.0          609         210.0          0   \n",
       "2          256           736.0          609         935.0          0   \n",
       "3          256          1539.0          256         840.0          0   \n",
       "4          431          2880.0          431        3315.0          0   \n",
       "\n",
       "  service_pos service_type transport_id transport_oper  \n",
       "0           0          rcs         5182       incoming  \n",
       "1           1          dep         5182       incoming  \n",
       "2           1          rcf         5182       incoming  \n",
       "3           0          dlv         5182       incoming  \n",
       "4           0          rcs          573       incoming  "
      ]
     },
     "execution_count": 6,
     "metadata": {},
     "output_type": "execute_result"
    }
   ],
   "source": [
    "df.head()"
   ]
  },
  {
   "cell_type": "code",
   "execution_count": 7,
   "metadata": {},
   "outputs": [],
   "source": [
    "df.to_csv('data_c2k.csv', index=False)"
   ]
  }
 ],
 "metadata": {
  "kernelspec": {
   "display_name": "Python 3",
   "language": "python",
   "name": "python3"
  },
  "language_info": {
   "codemirror_mode": {
    "name": "ipython",
    "version": 3
   },
   "file_extension": ".py",
   "mimetype": "text/x-python",
   "name": "python",
   "nbconvert_exporter": "python",
   "pygments_lexer": "ipython3",
   "version": "3.6.5"
  }
 },
 "nbformat": 4,
 "nbformat_minor": 2
}
